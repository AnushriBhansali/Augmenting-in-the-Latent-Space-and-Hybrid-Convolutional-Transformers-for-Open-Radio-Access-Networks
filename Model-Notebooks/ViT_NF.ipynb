{
  "cells": [
    {
      "cell_type": "code",
      "execution_count": null,
      "metadata": {
        "id": "8aR9XlDIdttl"
      },
      "outputs": [],
      "source": [
        "import numpy as np\n",
        "from sklearn.manifold import TSNE\n",
        "import matplotlib.pyplot as plt\n",
        "from keras.models import Model\n",
        "from keras.layers import Dense, GlobalAveragePooling2D\n",
        "from keras.applications import DenseNet121\n",
        "from sklearn.model_selection import train_test_split"
      ]
    },
    {
      "cell_type": "code",
      "execution_count": null,
      "metadata": {
        "colab": {
          "base_uri": "https://localhost:8080/"
        },
        "id": "iiB4fqTVf2UL",
        "outputId": "b001dc38-2da3-44b2-c727-d0faa5cbee36"
      },
      "outputs": [
        {
          "output_type": "stream",
          "name": "stdout",
          "text": [
            "Drive already mounted at /content/drive; to attempt to forcibly remount, call drive.mount(\"/content/drive\", force_remount=True).\n"
          ]
        }
      ],
      "source": [
        "from google.colab import drive\n",
        "drive.mount('/content/drive')"
      ]
    },
    {
      "cell_type": "code",
      "execution_count": null,
      "metadata": {
        "colab": {
          "base_uri": "https://localhost:8080/"
        },
        "id": "WL24JEabe-4g",
        "outputId": "3685fd83-c0a5-48bc-d877-9f3ac22c73d8"
      },
      "outputs": [
        {
          "output_type": "execute_result",
          "data": {
            "text/plain": [
              "(128, 128, 3)"
            ]
          },
          "metadata": {},
          "execution_count": 3
        }
      ],
      "source": [
        "x = np.load('/content/drive/MyDrive/DLBA/Noisy/Xfs_speckle.npy')\n",
        "y = np.load('/content/drive/MyDrive/DLBA/Noisy/Y_speckle.npy')\n",
        "\n",
        "# Perform train-test split\n",
        "x_train, x_test, y_train, y_test = train_test_split(x, y, test_size=0.5, random_state=7)\n",
        "\n",
        "# Create DenseNet base\n",
        "input_shape = x_train.shape[1:]  # Assuming x_train is a numpy array of images\n",
        "input_shape"
      ]
    },
    {
      "cell_type": "code",
      "execution_count": null,
      "metadata": {
        "colab": {
          "base_uri": "https://localhost:8080/"
        },
        "id": "_Y8EdptwfldN",
        "outputId": "72c39d55-1800-4e13-d2d2-566d22c17df9"
      },
      "outputs": [
        {
          "output_type": "stream",
          "name": "stdout",
          "text": [
            "(750, 128, 128, 3)\n",
            "(750, 128, 128, 3)\n"
          ]
        }
      ],
      "source": [
        "print(x_train.shape)\n",
        "print(x_test.shape)"
      ]
    },
    {
      "cell_type": "code",
      "execution_count": null,
      "metadata": {
        "colab": {
          "base_uri": "https://localhost:8080/"
        },
        "id": "QeVffpoRg0Cw",
        "outputId": "4ef102ba-44cb-4554-8819-995c226684b2"
      },
      "outputs": [
        {
          "output_type": "stream",
          "name": "stdout",
          "text": [
            "Collecting vit-keras\n",
            "  Downloading vit_keras-0.1.2-py3-none-any.whl.metadata (4.0 kB)\n",
            "Requirement already satisfied: scipy in /usr/local/lib/python3.10/dist-packages (from vit-keras) (1.13.1)\n",
            "Collecting validators (from vit-keras)\n",
            "  Downloading validators-0.34.0-py3-none-any.whl.metadata (3.8 kB)\n",
            "Requirement already satisfied: numpy<2.3,>=1.22.4 in /usr/local/lib/python3.10/dist-packages (from scipy->vit-keras) (1.26.4)\n",
            "Downloading vit_keras-0.1.2-py3-none-any.whl (24 kB)\n",
            "Downloading validators-0.34.0-py3-none-any.whl (43 kB)\n",
            "\u001b[?25l   \u001b[90m━━━━━━━━━━━━━━━━━━━━━━━━━━━━━━━━━━━━━━━━\u001b[0m \u001b[32m0.0/43.5 kB\u001b[0m \u001b[31m?\u001b[0m eta \u001b[36m-:--:--\u001b[0m\r\u001b[2K   \u001b[90m━━━━━━━━━━━━━━━━━━━━━━━━━━━━━━━━━━━━━━━━\u001b[0m \u001b[32m43.5/43.5 kB\u001b[0m \u001b[31m4.3 MB/s\u001b[0m eta \u001b[36m0:00:00\u001b[0m\n",
            "\u001b[?25hInstalling collected packages: validators, vit-keras\n",
            "Successfully installed validators-0.34.0 vit-keras-0.1.2\n"
          ]
        }
      ],
      "source": [
        "pip install vit-keras"
      ]
    },
    {
      "cell_type": "code",
      "execution_count": null,
      "metadata": {
        "colab": {
          "base_uri": "https://localhost:8080/"
        },
        "id": "sjROQekKhVVt",
        "outputId": "907546da-c333-4146-b88a-169ab8748757"
      },
      "outputs": [
        {
          "output_type": "stream",
          "name": "stdout",
          "text": [
            "Found existing installation: inflect 7.4.0\n",
            "Uninstalling inflect-7.4.0:\n",
            "  Successfully uninstalled inflect-7.4.0\n",
            "Collecting inflect<7.0.0\n",
            "  Downloading inflect-6.2.0-py3-none-any.whl.metadata (21 kB)\n",
            "Requirement already satisfied: pydantic>=1.9.1 in /usr/local/lib/python3.10/dist-packages (from inflect<7.0.0) (2.9.2)\n",
            "Requirement already satisfied: typing-extensions in /usr/local/lib/python3.10/dist-packages (from inflect<7.0.0) (4.12.2)\n",
            "Requirement already satisfied: annotated-types>=0.6.0 in /usr/local/lib/python3.10/dist-packages (from pydantic>=1.9.1->inflect<7.0.0) (0.7.0)\n",
            "Requirement already satisfied: pydantic-core==2.23.4 in /usr/local/lib/python3.10/dist-packages (from pydantic>=1.9.1->inflect<7.0.0) (2.23.4)\n",
            "Downloading inflect-6.2.0-py3-none-any.whl (35 kB)\n",
            "Installing collected packages: inflect\n",
            "Successfully installed inflect-6.2.0\n",
            "Collecting tensorflow-addons\n",
            "  Downloading tensorflow_addons-0.23.0-cp310-cp310-manylinux_2_17_x86_64.manylinux2014_x86_64.whl.metadata (1.8 kB)\n",
            "Requirement already satisfied: packaging in /usr/local/lib/python3.10/dist-packages (from tensorflow-addons) (24.2)\n",
            "Collecting typeguard<3.0.0,>=2.7 (from tensorflow-addons)\n",
            "  Downloading typeguard-2.13.3-py3-none-any.whl.metadata (3.6 kB)\n",
            "Downloading tensorflow_addons-0.23.0-cp310-cp310-manylinux_2_17_x86_64.manylinux2014_x86_64.whl (611 kB)\n",
            "\u001b[2K   \u001b[90m━━━━━━━━━━━━━━━━━━━━━━━━━━━━━━━━━━━━━━━━\u001b[0m \u001b[32m611.8/611.8 kB\u001b[0m \u001b[31m14.0 MB/s\u001b[0m eta \u001b[36m0:00:00\u001b[0m\n",
            "\u001b[?25hDownloading typeguard-2.13.3-py3-none-any.whl (17 kB)\n",
            "Installing collected packages: typeguard, tensorflow-addons\n",
            "  Attempting uninstall: typeguard\n",
            "    Found existing installation: typeguard 4.4.1\n",
            "    Uninstalling typeguard-4.4.1:\n",
            "      Successfully uninstalled typeguard-4.4.1\n",
            "Successfully installed tensorflow-addons-0.23.0 typeguard-2.13.3\n"
          ]
        }
      ],
      "source": [
        "!pip uninstall -y inflect\n",
        "!pip install \"inflect<7.0.0\"\n",
        "!pip install tensorflow-addons"
      ]
    },
    {
      "cell_type": "code",
      "execution_count": null,
      "metadata": {
        "colab": {
          "base_uri": "https://localhost:8080/"
        },
        "id": "T5VfH-VK8563",
        "outputId": "67555a8b-a232-40a5-d5ca-9c237e02c842"
      },
      "outputs": [
        {
          "output_type": "stream",
          "name": "stdout",
          "text": [
            "Requirement already satisfied: tensorflow-addons in /usr/local/lib/python3.10/dist-packages (0.23.0)\n",
            "Requirement already satisfied: packaging in /usr/local/lib/python3.10/dist-packages (from tensorflow-addons) (24.2)\n",
            "Requirement already satisfied: typeguard<3.0.0,>=2.7 in /usr/local/lib/python3.10/dist-packages (from tensorflow-addons) (2.13.3)\n"
          ]
        }
      ],
      "source": [
        "!pip install --upgrade tensorflow-addons"
      ]
    },
    {
      "cell_type": "code",
      "execution_count": null,
      "metadata": {
        "colab": {
          "base_uri": "https://localhost:8080/",
          "height": 1000
        },
        "id": "0zTxA75v9ISk",
        "outputId": "19979968-dc9b-4d76-af8f-5f9e8739dedc"
      },
      "outputs": [
        {
          "output_type": "stream",
          "name": "stdout",
          "text": [
            "Collecting tensorflow==2.9.1\n",
            "  Downloading tensorflow-2.9.1-cp310-cp310-manylinux_2_17_x86_64.manylinux2014_x86_64.whl.metadata (3.0 kB)\n",
            "Requirement already satisfied: absl-py>=1.0.0 in /usr/local/lib/python3.10/dist-packages (from tensorflow==2.9.1) (1.4.0)\n",
            "Requirement already satisfied: astunparse>=1.6.0 in /usr/local/lib/python3.10/dist-packages (from tensorflow==2.9.1) (1.6.3)\n",
            "Collecting flatbuffers<2,>=1.12 (from tensorflow==2.9.1)\n",
            "  Downloading flatbuffers-1.12-py2.py3-none-any.whl.metadata (872 bytes)\n",
            "Collecting gast<=0.4.0,>=0.2.1 (from tensorflow==2.9.1)\n",
            "  Downloading gast-0.4.0-py3-none-any.whl.metadata (1.1 kB)\n",
            "Requirement already satisfied: google-pasta>=0.1.1 in /usr/local/lib/python3.10/dist-packages (from tensorflow==2.9.1) (0.2.0)\n",
            "Requirement already satisfied: grpcio<2.0,>=1.24.3 in /usr/local/lib/python3.10/dist-packages (from tensorflow==2.9.1) (1.67.1)\n",
            "Requirement already satisfied: h5py>=2.9.0 in /usr/local/lib/python3.10/dist-packages (from tensorflow==2.9.1) (3.12.1)\n",
            "Collecting keras<2.10.0,>=2.9.0rc0 (from tensorflow==2.9.1)\n",
            "  Downloading keras-2.9.0-py2.py3-none-any.whl.metadata (1.3 kB)\n",
            "Collecting keras-preprocessing>=1.1.1 (from tensorflow==2.9.1)\n",
            "  Downloading Keras_Preprocessing-1.1.2-py2.py3-none-any.whl.metadata (1.9 kB)\n",
            "Requirement already satisfied: libclang>=13.0.0 in /usr/local/lib/python3.10/dist-packages (from tensorflow==2.9.1) (18.1.1)\n",
            "Requirement already satisfied: numpy>=1.20 in /usr/local/lib/python3.10/dist-packages (from tensorflow==2.9.1) (1.26.4)\n",
            "Requirement already satisfied: opt-einsum>=2.3.2 in /usr/local/lib/python3.10/dist-packages (from tensorflow==2.9.1) (3.4.0)\n",
            "Requirement already satisfied: packaging in /usr/local/lib/python3.10/dist-packages (from tensorflow==2.9.1) (24.2)\n",
            "Collecting protobuf<3.20,>=3.9.2 (from tensorflow==2.9.1)\n",
            "  Downloading protobuf-3.19.6-cp310-cp310-manylinux_2_17_x86_64.manylinux2014_x86_64.whl.metadata (787 bytes)\n",
            "Requirement already satisfied: setuptools in /usr/local/lib/python3.10/dist-packages (from tensorflow==2.9.1) (75.1.0)\n",
            "Requirement already satisfied: six>=1.12.0 in /usr/local/lib/python3.10/dist-packages (from tensorflow==2.9.1) (1.16.0)\n",
            "Collecting tensorboard<2.10,>=2.9 (from tensorflow==2.9.1)\n",
            "  Downloading tensorboard-2.9.1-py3-none-any.whl.metadata (1.9 kB)\n",
            "Requirement already satisfied: tensorflow-io-gcs-filesystem>=0.23.1 in /usr/local/lib/python3.10/dist-packages (from tensorflow==2.9.1) (0.37.1)\n",
            "Collecting tensorflow-estimator<2.10.0,>=2.9.0rc0 (from tensorflow==2.9.1)\n",
            "  Downloading tensorflow_estimator-2.9.0-py2.py3-none-any.whl.metadata (1.3 kB)\n",
            "Requirement already satisfied: termcolor>=1.1.0 in /usr/local/lib/python3.10/dist-packages (from tensorflow==2.9.1) (2.5.0)\n",
            "Requirement already satisfied: typing-extensions>=3.6.6 in /usr/local/lib/python3.10/dist-packages (from tensorflow==2.9.1) (4.12.2)\n",
            "Requirement already satisfied: wrapt>=1.11.0 in /usr/local/lib/python3.10/dist-packages (from tensorflow==2.9.1) (1.16.0)\n",
            "Requirement already satisfied: wheel<1.0,>=0.23.0 in /usr/local/lib/python3.10/dist-packages (from astunparse>=1.6.0->tensorflow==2.9.1) (0.45.0)\n",
            "Requirement already satisfied: google-auth<3,>=1.6.3 in /usr/local/lib/python3.10/dist-packages (from tensorboard<2.10,>=2.9->tensorflow==2.9.1) (2.27.0)\n",
            "Collecting google-auth-oauthlib<0.5,>=0.4.1 (from tensorboard<2.10,>=2.9->tensorflow==2.9.1)\n",
            "  Downloading google_auth_oauthlib-0.4.6-py2.py3-none-any.whl.metadata (2.7 kB)\n",
            "Requirement already satisfied: markdown>=2.6.8 in /usr/local/lib/python3.10/dist-packages (from tensorboard<2.10,>=2.9->tensorflow==2.9.1) (3.7)\n",
            "Requirement already satisfied: requests<3,>=2.21.0 in /usr/local/lib/python3.10/dist-packages (from tensorboard<2.10,>=2.9->tensorflow==2.9.1) (2.32.3)\n",
            "Collecting tensorboard-data-server<0.7.0,>=0.6.0 (from tensorboard<2.10,>=2.9->tensorflow==2.9.1)\n",
            "  Downloading tensorboard_data_server-0.6.1-py3-none-manylinux2010_x86_64.whl.metadata (1.1 kB)\n",
            "Collecting tensorboard-plugin-wit>=1.6.0 (from tensorboard<2.10,>=2.9->tensorflow==2.9.1)\n",
            "  Downloading tensorboard_plugin_wit-1.8.1-py3-none-any.whl.metadata (873 bytes)\n",
            "Requirement already satisfied: werkzeug>=1.0.1 in /usr/local/lib/python3.10/dist-packages (from tensorboard<2.10,>=2.9->tensorflow==2.9.1) (3.1.3)\n",
            "Requirement already satisfied: cachetools<6.0,>=2.0.0 in /usr/local/lib/python3.10/dist-packages (from google-auth<3,>=1.6.3->tensorboard<2.10,>=2.9->tensorflow==2.9.1) (5.5.0)\n",
            "Requirement already satisfied: pyasn1-modules>=0.2.1 in /usr/local/lib/python3.10/dist-packages (from google-auth<3,>=1.6.3->tensorboard<2.10,>=2.9->tensorflow==2.9.1) (0.4.1)\n",
            "Requirement already satisfied: rsa<5,>=3.1.4 in /usr/local/lib/python3.10/dist-packages (from google-auth<3,>=1.6.3->tensorboard<2.10,>=2.9->tensorflow==2.9.1) (4.9)\n",
            "Requirement already satisfied: requests-oauthlib>=0.7.0 in /usr/local/lib/python3.10/dist-packages (from google-auth-oauthlib<0.5,>=0.4.1->tensorboard<2.10,>=2.9->tensorflow==2.9.1) (1.3.1)\n",
            "Requirement already satisfied: charset-normalizer<4,>=2 in /usr/local/lib/python3.10/dist-packages (from requests<3,>=2.21.0->tensorboard<2.10,>=2.9->tensorflow==2.9.1) (3.4.0)\n",
            "Requirement already satisfied: idna<4,>=2.5 in /usr/local/lib/python3.10/dist-packages (from requests<3,>=2.21.0->tensorboard<2.10,>=2.9->tensorflow==2.9.1) (3.10)\n",
            "Requirement already satisfied: urllib3<3,>=1.21.1 in /usr/local/lib/python3.10/dist-packages (from requests<3,>=2.21.0->tensorboard<2.10,>=2.9->tensorflow==2.9.1) (2.2.3)\n",
            "Requirement already satisfied: certifi>=2017.4.17 in /usr/local/lib/python3.10/dist-packages (from requests<3,>=2.21.0->tensorboard<2.10,>=2.9->tensorflow==2.9.1) (2024.8.30)\n",
            "Requirement already satisfied: MarkupSafe>=2.1.1 in /usr/local/lib/python3.10/dist-packages (from werkzeug>=1.0.1->tensorboard<2.10,>=2.9->tensorflow==2.9.1) (3.0.2)\n",
            "Requirement already satisfied: pyasn1<0.7.0,>=0.4.6 in /usr/local/lib/python3.10/dist-packages (from pyasn1-modules>=0.2.1->google-auth<3,>=1.6.3->tensorboard<2.10,>=2.9->tensorflow==2.9.1) (0.6.1)\n",
            "Requirement already satisfied: oauthlib>=3.0.0 in /usr/local/lib/python3.10/dist-packages (from requests-oauthlib>=0.7.0->google-auth-oauthlib<0.5,>=0.4.1->tensorboard<2.10,>=2.9->tensorflow==2.9.1) (3.2.2)\n",
            "Downloading tensorflow-2.9.1-cp310-cp310-manylinux_2_17_x86_64.manylinux2014_x86_64.whl (511.7 MB)\n",
            "\u001b[2K   \u001b[90m━━━━━━━━━━━━━━━━━━━━━━━━━━━━━━━━━━━━━━━━\u001b[0m \u001b[32m511.7/511.7 MB\u001b[0m \u001b[31m1.4 MB/s\u001b[0m eta \u001b[36m0:00:00\u001b[0m\n",
            "\u001b[?25hDownloading flatbuffers-1.12-py2.py3-none-any.whl (15 kB)\n",
            "Downloading gast-0.4.0-py3-none-any.whl (9.8 kB)\n",
            "Downloading keras-2.9.0-py2.py3-none-any.whl (1.6 MB)\n",
            "\u001b[2K   \u001b[90m━━━━━━━━━━━━━━━━━━━━━━━━━━━━━━━━━━━━━━━━\u001b[0m \u001b[32m1.6/1.6 MB\u001b[0m \u001b[31m18.6 MB/s\u001b[0m eta \u001b[36m0:00:00\u001b[0m\n",
            "\u001b[?25hDownloading Keras_Preprocessing-1.1.2-py2.py3-none-any.whl (42 kB)\n",
            "\u001b[2K   \u001b[90m━━━━━━━━━━━━━━━━━━━━━━━━━━━━━━━━━━━━━━━━\u001b[0m \u001b[32m42.6/42.6 kB\u001b[0m \u001b[31m3.9 MB/s\u001b[0m eta \u001b[36m0:00:00\u001b[0m\n",
            "\u001b[?25hDownloading protobuf-3.19.6-cp310-cp310-manylinux_2_17_x86_64.manylinux2014_x86_64.whl (1.1 MB)\n",
            "\u001b[2K   \u001b[90m━━━━━━━━━━━━━━━━━━━━━━━━━━━━━━━━━━━━━━━━\u001b[0m \u001b[32m1.1/1.1 MB\u001b[0m \u001b[31m34.8 MB/s\u001b[0m eta \u001b[36m0:00:00\u001b[0m\n",
            "\u001b[?25hDownloading tensorboard-2.9.1-py3-none-any.whl (5.8 MB)\n",
            "\u001b[2K   \u001b[90m━━━━━━━━━━━━━━━━━━━━━━━━━━━━━━━━━━━━━━━━\u001b[0m \u001b[32m5.8/5.8 MB\u001b[0m \u001b[31m36.5 MB/s\u001b[0m eta \u001b[36m0:00:00\u001b[0m\n",
            "\u001b[?25hDownloading tensorflow_estimator-2.9.0-py2.py3-none-any.whl (438 kB)\n",
            "\u001b[2K   \u001b[90m━━━━━━━━━━━━━━━━━━━━━━━━━━━━━━━━━━━━━━━━\u001b[0m \u001b[32m438.7/438.7 kB\u001b[0m \u001b[31m20.7 MB/s\u001b[0m eta \u001b[36m0:00:00\u001b[0m\n",
            "\u001b[?25hDownloading google_auth_oauthlib-0.4.6-py2.py3-none-any.whl (18 kB)\n",
            "Downloading tensorboard_data_server-0.6.1-py3-none-manylinux2010_x86_64.whl (4.9 MB)\n",
            "\u001b[2K   \u001b[90m━━━━━━━━━━━━━━━━━━━━━━━━━━━━━━━━━━━━━━━━\u001b[0m \u001b[32m4.9/4.9 MB\u001b[0m \u001b[31m43.7 MB/s\u001b[0m eta \u001b[36m0:00:00\u001b[0m\n",
            "\u001b[?25hDownloading tensorboard_plugin_wit-1.8.1-py3-none-any.whl (781 kB)\n",
            "\u001b[2K   \u001b[90m━━━━━━━━━━━━━━━━━━━━━━━━━━━━━━━━━━━━━━━━\u001b[0m \u001b[32m781.3/781.3 kB\u001b[0m \u001b[31m26.8 MB/s\u001b[0m eta \u001b[36m0:00:00\u001b[0m\n",
            "\u001b[?25hInstalling collected packages: tensorboard-plugin-wit, keras, flatbuffers, tensorflow-estimator, tensorboard-data-server, protobuf, keras-preprocessing, gast, google-auth-oauthlib, tensorboard, tensorflow\n",
            "  Attempting uninstall: keras\n",
            "    Found existing installation: keras 3.5.0\n",
            "    Uninstalling keras-3.5.0:\n",
            "      Successfully uninstalled keras-3.5.0\n",
            "  Attempting uninstall: flatbuffers\n",
            "    Found existing installation: flatbuffers 24.3.25\n",
            "    Uninstalling flatbuffers-24.3.25:\n",
            "      Successfully uninstalled flatbuffers-24.3.25\n",
            "  Attempting uninstall: tensorboard-data-server\n",
            "    Found existing installation: tensorboard-data-server 0.7.2\n",
            "    Uninstalling tensorboard-data-server-0.7.2:\n",
            "      Successfully uninstalled tensorboard-data-server-0.7.2\n",
            "  Attempting uninstall: protobuf\n",
            "    Found existing installation: protobuf 4.25.5\n",
            "    Uninstalling protobuf-4.25.5:\n",
            "      Successfully uninstalled protobuf-4.25.5\n",
            "  Attempting uninstall: gast\n",
            "    Found existing installation: gast 0.6.0\n",
            "    Uninstalling gast-0.6.0:\n",
            "      Successfully uninstalled gast-0.6.0\n",
            "  Attempting uninstall: google-auth-oauthlib\n",
            "    Found existing installation: google-auth-oauthlib 1.2.1\n",
            "    Uninstalling google-auth-oauthlib-1.2.1:\n",
            "      Successfully uninstalled google-auth-oauthlib-1.2.1\n",
            "  Attempting uninstall: tensorboard\n",
            "    Found existing installation: tensorboard 2.17.1\n",
            "    Uninstalling tensorboard-2.17.1:\n",
            "      Successfully uninstalled tensorboard-2.17.1\n",
            "  Attempting uninstall: tensorflow\n",
            "    Found existing installation: tensorflow 2.17.1\n",
            "    Uninstalling tensorflow-2.17.1:\n",
            "      Successfully uninstalled tensorflow-2.17.1\n",
            "\u001b[31mERROR: pip's dependency resolver does not currently take into account all the packages that are installed. This behaviour is the source of the following dependency conflicts.\n",
            "google-ai-generativelanguage 0.6.10 requires protobuf!=4.21.0,!=4.21.1,!=4.21.2,!=4.21.3,!=4.21.4,!=4.21.5,<6.0.0dev,>=3.20.2, but you have protobuf 3.19.6 which is incompatible.\n",
            "google-cloud-aiplatform 1.71.1 requires protobuf!=4.21.0,!=4.21.1,!=4.21.2,!=4.21.3,!=4.21.4,!=4.21.5,<6.0.0dev,>=3.20.2, but you have protobuf 3.19.6 which is incompatible.\n",
            "google-cloud-bigquery-connection 1.16.1 requires protobuf!=4.21.0,!=4.21.1,!=4.21.2,!=4.21.3,!=4.21.4,!=4.21.5,<6.0.0dev,>=3.20.2, but you have protobuf 3.19.6 which is incompatible.\n",
            "google-cloud-bigquery-storage 2.27.0 requires protobuf!=3.20.0,!=3.20.1,!=4.21.0,!=4.21.1,!=4.21.2,!=4.21.3,!=4.21.4,!=4.21.5,<6.0.0dev,>=3.20.2, but you have protobuf 3.19.6 which is incompatible.\n",
            "google-cloud-bigtable 2.26.0 requires protobuf!=4.21.0,!=4.21.1,!=4.21.2,!=4.21.3,!=4.21.4,!=4.21.5,<6.0.0dev,>=3.20.2, but you have protobuf 3.19.6 which is incompatible.\n",
            "google-cloud-datastore 2.20.1 requires protobuf!=3.20.0,!=3.20.1,!=4.21.0,!=4.21.1,!=4.21.2,!=4.21.3,!=4.21.4,!=4.21.5,<6.0.0dev,>=3.20.2, but you have protobuf 3.19.6 which is incompatible.\n",
            "google-cloud-firestore 2.19.0 requires protobuf!=3.20.0,!=3.20.1,!=4.21.0,!=4.21.1,!=4.21.2,!=4.21.3,!=4.21.4,!=4.21.5,<6.0.0dev,>=3.20.2, but you have protobuf 3.19.6 which is incompatible.\n",
            "google-cloud-functions 1.18.0 requires protobuf!=4.21.0,!=4.21.1,!=4.21.2,!=4.21.3,!=4.21.4,!=4.21.5,<6.0.0dev,>=3.20.2, but you have protobuf 3.19.6 which is incompatible.\n",
            "google-cloud-iam 2.16.0 requires protobuf!=4.21.0,!=4.21.1,!=4.21.2,!=4.21.3,!=4.21.4,!=4.21.5,<6.0.0dev,>=3.20.2, but you have protobuf 3.19.6 which is incompatible.\n",
            "google-cloud-language 2.15.0 requires protobuf!=4.21.0,!=4.21.1,!=4.21.2,!=4.21.3,!=4.21.4,!=4.21.5,<6.0.0dev,>=3.20.2, but you have protobuf 3.19.6 which is incompatible.\n",
            "google-cloud-pubsub 2.26.1 requires protobuf!=4.21.0,!=4.21.1,!=4.21.2,!=4.21.3,!=4.21.4,!=4.21.5,<6.0.0dev,>=3.20.2, but you have protobuf 3.19.6 which is incompatible.\n",
            "google-cloud-resource-manager 1.13.0 requires protobuf!=4.21.0,!=4.21.1,!=4.21.2,!=4.21.3,!=4.21.4,!=4.21.5,<6.0.0dev,>=3.20.2, but you have protobuf 3.19.6 which is incompatible.\n",
            "google-cloud-translate 3.17.0 requires protobuf!=4.21.0,!=4.21.1,!=4.21.2,!=4.21.3,!=4.21.4,!=4.21.5,<6.0.0dev,>=3.20.2, but you have protobuf 3.19.6 which is incompatible.\n",
            "googleapis-common-protos 1.66.0 requires protobuf!=3.20.0,!=3.20.1,!=4.21.1,!=4.21.2,!=4.21.3,!=4.21.4,!=4.21.5,<6.0.0.dev0,>=3.20.2, but you have protobuf 3.19.6 which is incompatible.\n",
            "grpc-google-iam-v1 0.13.1 requires protobuf!=4.21.1,!=4.21.2,!=4.21.3,!=4.21.4,!=4.21.5,<6.0.0dev,>=3.20.2, but you have protobuf 3.19.6 which is incompatible.\n",
            "grpcio-status 1.62.3 requires protobuf>=4.21.6, but you have protobuf 3.19.6 which is incompatible.\n",
            "pandas-gbq 0.24.0 requires google-auth-oauthlib>=0.7.0, but you have google-auth-oauthlib 0.4.6 which is incompatible.\n",
            "tensorflow-datasets 4.9.7 requires protobuf>=3.20, but you have protobuf 3.19.6 which is incompatible.\n",
            "tensorflow-metadata 1.13.1 requires protobuf<5,>=3.20.3, but you have protobuf 3.19.6 which is incompatible.\n",
            "tf-keras 2.17.0 requires tensorflow<2.18,>=2.17, but you have tensorflow 2.9.1 which is incompatible.\u001b[0m\u001b[31m\n",
            "\u001b[0mSuccessfully installed flatbuffers-1.12 gast-0.4.0 google-auth-oauthlib-0.4.6 keras-2.9.0 keras-preprocessing-1.1.2 protobuf-3.19.6 tensorboard-2.9.1 tensorboard-data-server-0.6.1 tensorboard-plugin-wit-1.8.1 tensorflow-2.9.1 tensorflow-estimator-2.9.0\n"
          ]
        },
        {
          "output_type": "display_data",
          "data": {
            "application/vnd.colab-display-data+json": {
              "pip_warning": {
                "packages": [
                  "flatbuffers",
                  "gast",
                  "google",
                  "keras",
                  "tensorflow"
                ]
              },
              "id": "d894da2d097a4d58afbb2227b34f58c2"
            }
          },
          "metadata": {}
        }
      ],
      "source": [
        "pip install tensorflow==2.9.1\n"
      ]
    },
    {
      "cell_type": "code",
      "execution_count": null,
      "metadata": {
        "colab": {
          "base_uri": "https://localhost:8080/"
        },
        "id": "vyi0NYh7enrQ",
        "outputId": "efcd3bad-edaf-4333-858f-30e7e18b7694"
      },
      "outputs": [
        {
          "output_type": "stream",
          "name": "stderr",
          "text": [
            "/usr/local/lib/python3.10/dist-packages/tensorflow_addons/utils/tfa_eol_msg.py:23: UserWarning: \n",
            "\n",
            "TensorFlow Addons (TFA) has ended development and introduction of new features.\n",
            "TFA has entered a minimal maintenance and release mode until a planned end of life in May 2024.\n",
            "Please modify downstream libraries to take dependencies from other repositories in our TensorFlow community (e.g. Keras, Keras-CV, and Keras-NLP). \n",
            "\n",
            "For more information see: https://github.com/tensorflow/addons/issues/2807 \n",
            "\n",
            "  warnings.warn(\n",
            "/usr/local/lib/python3.10/dist-packages/tensorflow_addons/utils/ensure_tf_install.py:53: UserWarning: Tensorflow Addons supports using Python ops for all Tensorflow versions above or equal to 2.13.0 and strictly below 2.16.0 (nightly versions are not supported). \n",
            " The versions of TensorFlow you are currently using is 2.9.1 and is not supported. \n",
            "Some things might work, some things might not.\n",
            "If you were to encounter a bug, do not file an issue.\n",
            "If you want to make sure you're using a tested and supported configuration, either change the TensorFlow version or the TensorFlow Addons's version. \n",
            "You can find the compatibility matrix in TensorFlow Addon's readme:\n",
            "https://github.com/tensorflow/addons\n",
            "  warnings.warn(\n"
          ]
        },
        {
          "output_type": "stream",
          "name": "stdout",
          "text": [
            "Model: \"model_1\"\n",
            "_________________________________________________________________\n",
            " Layer (type)                Output Shape              Param #   \n",
            "=================================================================\n",
            " input_1 (InputLayer)        [(None, 128, 128, 3)]     0         \n",
            "                                                                 \n",
            " embedding (Conv2D)          (None, 8, 8, 144)         110736    \n",
            "                                                                 \n",
            " reshape (Reshape)           (None, 64, 144)           0         \n",
            "                                                                 \n",
            " class_token (ClassToken)    (None, 65, 144)           144       \n",
            "                                                                 \n",
            " Transformer/posembed_input   (None, 65, 144)          9360      \n",
            " (AddPositionEmbs)                                               \n",
            "                                                                 \n",
            " Transformer/encoderblock_0   ((None, 65, 144),        232208    \n",
            " (TransformerBlock)           (None, 12, None, None))            \n",
            "                                                                 \n",
            " Transformer/encoderblock_1   ((None, 65, 144),        232208    \n",
            " (TransformerBlock)           (None, 12, None, None))            \n",
            "                                                                 \n",
            " Transformer/encoderblock_2   ((None, 65, 144),        232208    \n",
            " (TransformerBlock)           (None, 12, None, None))            \n",
            "                                                                 \n",
            " Transformer/encoderblock_3   ((None, 65, 144),        232208    \n",
            " (TransformerBlock)           (None, 12, None, None))            \n",
            "                                                                 \n",
            " Transformer/encoderblock_4   ((None, 65, 144),        232208    \n",
            " (TransformerBlock)           (None, 12, None, None))            \n",
            "                                                                 \n",
            " Transformer/encoderblock_5   ((None, 65, 144),        232208    \n",
            " (TransformerBlock)           (None, 12, None, None))            \n",
            "                                                                 \n",
            " Transformer/encoderblock_6   ((None, 65, 144),        232208    \n",
            " (TransformerBlock)           (None, 12, None, None))            \n",
            "                                                                 \n",
            " Transformer/encoderblock_7   ((None, 65, 144),        232208    \n",
            " (TransformerBlock)           (None, 12, None, None))            \n",
            "                                                                 \n",
            " Transformer/encoderblock_8   ((None, 65, 144),        232208    \n",
            " (TransformerBlock)           (None, 12, None, None))            \n",
            "                                                                 \n",
            " Transformer/encoderblock_9   ((None, 65, 144),        232208    \n",
            " (TransformerBlock)           (None, 12, None, None))            \n",
            "                                                                 \n",
            " Transformer/encoderblock_10  ((None, 65, 144),        232208    \n",
            "  (TransformerBlock)          (None, 12, None, None))            \n",
            "                                                                 \n",
            " Transformer/encoderblock_11  ((None, 65, 144),        232208    \n",
            "  (TransformerBlock)          (None, 12, None, None))            \n",
            "                                                                 \n",
            " Transformer/encoder_norm (L  (None, 65, 144)          288       \n",
            " ayerNormalization)                                              \n",
            "                                                                 \n",
            " ExtractToken (Lambda)       (None, 144)               0         \n",
            "                                                                 \n",
            " dense (Dense)               (None, 125)               18125     \n",
            "                                                                 \n",
            " dense_1 (Dense)             (None, 3)                 378       \n",
            "                                                                 \n",
            "=================================================================\n",
            "Total params: 2,925,527\n",
            "Trainable params: 2,925,527\n",
            "Non-trainable params: 0\n",
            "_________________________________________________________________\n"
          ]
        }
      ],
      "source": [
        "from tensorflow.keras.layers import Dense, GlobalAveragePooling2D\n",
        "from tensorflow.keras.models import Model\n",
        "from vit_keras import vit\n",
        "\n",
        "def create_ViT_base(input_shape):\n",
        "    # Load ViT model without the top layer\n",
        "    base_model = vit.build_model(image_size=input_shape[0], patch_size=16, num_layers=12, activation='linear',\n",
        "                                 classes = 3, hidden_size =144, num_heads = 12, name = 'ViT_Dem', mlp_dim = 512, include_top=False)\n",
        "\n",
        "    # Perform global average pooling\n",
        "    x = base_model.output\n",
        "    #x = GlobalAveragePooling2D()(x)\n",
        "\n",
        "    # Add a dense layer with 125 sigmoid activated neurons\n",
        "    x = Dense(125, activation='sigmoid')(x)\n",
        "\n",
        "    model = Model(inputs=base_model.input, outputs=x)\n",
        "    return model\n",
        "\n",
        "def create_classification_model(base_model, num_classes):\n",
        "    # Freeze the base model layers\n",
        "    for layer in base_model.layers:\n",
        "        layer.trainable = True\n",
        "\n",
        "    # Add a dense layer with softmax activation for classification\n",
        "    x = Dense(num_classes, activation='softmax')(base_model.output)\n",
        "\n",
        "    # Create the classification model\n",
        "    model = Model(inputs=base_model.input, outputs=x)\n",
        "\n",
        "    return model\n",
        "\n",
        "base_model = create_ViT_base(input_shape)\n",
        "\n",
        "num_classes = 3  # Change this to the number of classes in your classification task\n",
        "classification_model = create_classification_model(base_model, num_classes)\n",
        "\n",
        "classification_model.summary()\n"
      ]
    },
    {
      "cell_type": "code",
      "execution_count": null,
      "metadata": {
        "colab": {
          "base_uri": "https://localhost:8080/"
        },
        "id": "ve04he0SfdUC",
        "outputId": "b611d67b-ff0b-49dd-bc9c-a49d7217dc3e"
      },
      "outputs": [
        {
          "output_type": "stream",
          "name": "stdout",
          "text": [
            "\n",
            "Training with patience=5, min_lr=1e-05\n",
            "Minimum validation loss: 1.09649\n",
            "\n",
            "Training with patience=5, min_lr=1e-06\n",
            "Minimum validation loss: 1.09649\n",
            "\n",
            "Training with patience=7, min_lr=1e-05\n",
            "Minimum validation loss: 1.09639\n",
            "\n",
            "Training with patience=7, min_lr=1e-06\n",
            "Minimum validation loss: 1.09623\n",
            "\n",
            "Best hyperparameters found:\n",
            "Patience: 7\n",
            "Min Learning Rate: 1e-06\n",
            "Best Validation Loss: 1.09623\n",
            "Epoch 1/10\n",
            "53/53 [==============================] - ETA: 0s - loss: 1.1453 - accuracy: 0.3470\n",
            "Epoch 1: val_loss improved from inf to 1.15261, saving model to /content/drive/MyDrive/vit.keras\n",
            "53/53 [==============================] - 90s 1s/step - loss: 1.1453 - accuracy: 0.3470 - val_loss: 1.1526 - val_accuracy: 0.3048 - lr: 0.0010\n",
            "Epoch 2/10\n",
            "53/53 [==============================] - ETA: 0s - loss: 1.1098 - accuracy: 0.3095\n",
            "Epoch 2: val_loss improved from 1.15261 to 1.09908, saving model to /content/drive/MyDrive/vit.keras\n",
            "53/53 [==============================] - 71s 1s/step - loss: 1.1098 - accuracy: 0.3095 - val_loss: 1.0991 - val_accuracy: 0.3667 - lr: 0.0010\n",
            "Epoch 3/10\n",
            "53/53 [==============================] - ETA: 0s - loss: 1.1060 - accuracy: 0.3250\n",
            "Epoch 3: val_loss did not improve from 1.09908\n",
            "53/53 [==============================] - 68s 1s/step - loss: 1.1060 - accuracy: 0.3250 - val_loss: 1.1080 - val_accuracy: 0.3048 - lr: 0.0010\n",
            "Epoch 4/10\n",
            "53/53 [==============================] - ETA: 0s - loss: 1.1113 - accuracy: 0.3298\n",
            "Epoch 4: val_loss did not improve from 1.09908\n",
            "53/53 [==============================] - 70s 1s/step - loss: 1.1113 - accuracy: 0.3298 - val_loss: 1.1054 - val_accuracy: 0.3048 - lr: 0.0010\n",
            "Epoch 5/10\n",
            "53/53 [==============================] - ETA: 0s - loss: 1.1120 - accuracy: 0.3298\n",
            "Epoch 5: val_loss did not improve from 1.09908\n",
            "53/53 [==============================] - 70s 1s/step - loss: 1.1120 - accuracy: 0.3298 - val_loss: 1.1024 - val_accuracy: 0.3048 - lr: 0.0010\n",
            "Epoch 6/10\n",
            "53/53 [==============================] - ETA: 0s - loss: 1.1033 - accuracy: 0.3202\n",
            "Epoch 6: val_loss did not improve from 1.09908\n",
            "53/53 [==============================] - 68s 1s/step - loss: 1.1033 - accuracy: 0.3202 - val_loss: 1.1009 - val_accuracy: 0.3667 - lr: 0.0010\n",
            "Epoch 7/10\n",
            "53/53 [==============================] - ETA: 0s - loss: 1.1102 - accuracy: 0.3173\n",
            "Epoch 7: val_loss did not improve from 1.09908\n",
            "\n",
            "Epoch 7: ReduceLROnPlateau reducing learning rate to 0.00020000000949949026.\n",
            "53/53 [==============================] - 70s 1s/step - loss: 1.1102 - accuracy: 0.3173 - val_loss: 1.1078 - val_accuracy: 0.3048 - lr: 0.0010\n",
            "Epoch 8/10\n",
            "53/53 [==============================] - ETA: 0s - loss: 1.0990 - accuracy: 0.3435\n",
            "Epoch 8: val_loss improved from 1.09908 to 1.09711, saving model to /content/drive/MyDrive/vit.keras\n",
            "53/53 [==============================] - 70s 1s/step - loss: 1.0990 - accuracy: 0.3435 - val_loss: 1.0971 - val_accuracy: 0.3667 - lr: 2.0000e-04\n",
            "Epoch 9/10\n",
            "53/53 [==============================] - ETA: 0s - loss: 1.1013 - accuracy: 0.3280\n",
            "Epoch 9: val_loss did not improve from 1.09711\n",
            "53/53 [==============================] - 67s 1s/step - loss: 1.1013 - accuracy: 0.3280 - val_loss: 1.1037 - val_accuracy: 0.3048 - lr: 2.0000e-04\n",
            "Epoch 10/10\n",
            "53/53 [==============================] - ETA: 0s - loss: 1.1005 - accuracy: 0.3149\n",
            "Epoch 10: val_loss did not improve from 1.09711\n",
            "53/53 [==============================] - 70s 1s/step - loss: 1.1005 - accuracy: 0.3149 - val_loss: 1.1007 - val_accuracy: 0.3048 - lr: 2.0000e-04\n",
            "14/14 [==============================] - 4s 285ms/step - loss: 1.0971 - accuracy: 0.3667\n",
            "Test Loss: 1.09711\n",
            "Test Accuracy: 0.36667\n",
            "14/14 [==============================] - 8s 394ms/step\n",
            "\n",
            "Classification Report (baseline):\n",
            "              precision    recall  f1-score   support\n",
            "\n",
            "           0    0.00000   0.00000   0.00000       128\n",
            "           1    0.00000   0.00000   0.00000       138\n",
            "           2    0.36667   1.00000   0.53659       154\n",
            "\n",
            "    accuracy                        0.36667       420\n",
            "   macro avg    0.12222   0.33333   0.17886       420\n",
            "weighted avg    0.13444   0.36667   0.19675       420\n",
            "\n"
          ]
        },
        {
          "output_type": "stream",
          "name": "stderr",
          "text": [
            "/usr/local/lib/python3.10/dist-packages/sklearn/metrics/_classification.py:1531: UndefinedMetricWarning: Precision is ill-defined and being set to 0.0 in labels with no predicted samples. Use `zero_division` parameter to control this behavior.\n",
            "  _warn_prf(average, modifier, f\"{metric.capitalize()} is\", len(result))\n",
            "/usr/local/lib/python3.10/dist-packages/sklearn/metrics/_classification.py:1531: UndefinedMetricWarning: Precision is ill-defined and being set to 0.0 in labels with no predicted samples. Use `zero_division` parameter to control this behavior.\n",
            "  _warn_prf(average, modifier, f\"{metric.capitalize()} is\", len(result))\n",
            "/usr/local/lib/python3.10/dist-packages/sklearn/metrics/_classification.py:1531: UndefinedMetricWarning: Precision is ill-defined and being set to 0.0 in labels with no predicted samples. Use `zero_division` parameter to control this behavior.\n",
            "  _warn_prf(average, modifier, f\"{metric.capitalize()} is\", len(result))\n"
          ]
        }
      ],
      "source": [
        "from keras.callbacks import ModelCheckpoint, EarlyStopping, ReduceLROnPlateau\n",
        "classification_model.compile(optimizer='adam', loss='sparse_categorical_crossentropy', metrics=['accuracy'])\n",
        "\n",
        "# Define callbacks\n",
        "checkpoint = ModelCheckpoint(\"/content/drive/MyDrive/vit.keras\", monitor='val_loss', verbose=1, save_best_only=True, mode='min')\n",
        "early_stopping = EarlyStopping(monitor='val_loss', patience=7, verbose=1, restore_best_weights=True)\n",
        "reduce_lr = ReduceLROnPlateau(monitor='val_loss', factor=0.2, patience=5, min_lr=1e-6, verbose=1)\n",
        "\n",
        "# Train the model\n",
        "\n",
        "# history = classification_model.fit(x_train, y_train, epochs=25, batch_size=32, validation_data=(x_test, y_test), callbacks=[checkpoint, early_stopping, reduce_lr])\n",
        "######################################################\n",
        "\n",
        "classification_model.load_weights(\"/content/drive/MyDrive/vit.keras\")\n",
        "classification_model.evaluate(x_test, y_test)\n",
        "\n",
        "######################################################\n",
        "from sklearn.metrics import accuracy_score, precision_score, recall_score, f1_score, roc_auc_score\n",
        "\n",
        "# Assuming classification_model.predict returns probabilities or predicted classes\n",
        "y_pred = classification_model.predict(x_test)\n",
        "\n",
        "# If y_pred contains probabilities, you may want to convert them to classes\n",
        "# For binary classification:\n",
        "# y_pred_classes = (y_pred > 0.5).astype(int)\n",
        "\n",
        "# For multi-class classification with softmax output:\n",
        "y_pred_classes = np.argmax(y_pred, axis=1)\n",
        "from sklearn.metrics import classification_report\n",
        "\n",
        "# Assuming y_pred_classes are predicted classes\n",
        "\n",
        "# Generate classification report\n",
        "report = classification_report(y_test, y_pred_classes, digits=5)\n",
        "\n",
        "# Print the report\n",
        "print(\"Classification Report:\")\n",
        "print(report)\n",
        "\n",
        "\n",
        "\n",
        "import numpy as np\n",
        "from keras.callbacks import ModelCheckpoint, EarlyStopping, ReduceLROnPlateau\n",
        "from sklearn.metrics import classification_report\n",
        "\n",
        "# Save the initial weights of the model\n",
        "initial_weights = classification_model.get_weights()\n",
        "\n",
        "# Define the hyperparameter grid\n",
        "patience_values =  [5, 7]  # Possible patience values\n",
        "min_lr_values = [1e-5, 1e-6]  # Possible min_lr values\n",
        "\n",
        "# Variables to store the best results\n",
        "best_loss = np.inf\n",
        "best_patience = None\n",
        "best_min_lr = None\n",
        "best_weights = None\n",
        "\n",
        "# Loop over all combinations of patience and min_lr\n",
        "for patience in patience_values:\n",
        "    for min_lr in min_lr_values:\n",
        "        print(f\"\\nTraining with patience={patience}, min_lr={min_lr}\")\n",
        "\n",
        "        # Reset model weights to initial state\n",
        "        classification_model.set_weights(initial_weights)\n",
        "\n",
        "        # Compile the model\n",
        "        classification_model.compile(\n",
        "            optimizer='adam',\n",
        "            loss='sparse_categorical_crossentropy',\n",
        "            metrics=['accuracy']\n",
        "        )\n",
        "\n",
        "        # Define callbacks with current hyperparameters\n",
        "        checkpoint = ModelCheckpoint(\n",
        "            filepath=\"/content/drive/MyDrive/vit.keras\",\n",
        "            monitor='val_loss',\n",
        "            verbose=0,\n",
        "            save_best_only=True,\n",
        "            mode='min'\n",
        "        )\n",
        "\n",
        "        early_stopping = EarlyStopping(\n",
        "            monitor='val_loss',\n",
        "            patience=patience,\n",
        "            verbose=0,\n",
        "            restore_best_weights=True\n",
        "        )\n",
        "\n",
        "        reduce_lr = ReduceLROnPlateau(\n",
        "            monitor='val_loss',\n",
        "            factor=0.2,\n",
        "            patience=max(1, patience - 2),  # Ensure patience is at least 1\n",
        "            min_lr=min_lr,\n",
        "            verbose=0\n",
        "        )\n",
        "\n",
        "        # Train the model\n",
        "        history = classification_model.fit(\n",
        "            x_train,\n",
        "            y_train,\n",
        "            epochs=25,\n",
        "            batch_size=32,\n",
        "            validation_data=(x_test, y_test),\n",
        "            callbacks=[checkpoint, early_stopping, reduce_lr],\n",
        "            verbose=0  # Suppress detailed output\n",
        "        )\n",
        "\n",
        "        # Get the best validation loss from the history\n",
        "        val_losses = history.history['val_loss']\n",
        "        min_val_loss = min(val_losses)\n",
        "        print(f\"Minimum validation loss: {min_val_loss:.5f}\")\n",
        "\n",
        "        # Update best parameters if current model is better\n",
        "        if min_val_loss < best_loss:\n",
        "            best_loss = min_val_loss\n",
        "            best_patience = patience\n",
        "            best_min_lr = min_lr\n",
        "            best_weights = classification_model.get_weights()  # Save the best weights\n",
        "\n",
        "# Display the best hyperparameters found\n",
        "print(\"\\nBest hyperparameters found:\")\n",
        "print(f\"Patience: {best_patience}\")\n",
        "print(f\"Min Learning Rate: {best_min_lr}\")\n",
        "print(f\"Best Validation Loss: {best_loss:.5f}\")\n",
        "\n",
        "# Reset model weights to initial state\n",
        "classification_model.set_weights(initial_weights)\n",
        "\n",
        "# Compile the model with the best hyperparameters\n",
        "classification_model.compile(\n",
        "    optimizer='adam',\n",
        "    loss='sparse_categorical_crossentropy',\n",
        "    metrics=['accuracy']\n",
        ")\n",
        "\n",
        "# Define callbacks with best hyperparameters\n",
        "checkpoint = ModelCheckpoint(\n",
        "    filepath=\"/content/drive/MyDrive/vit.keras\",\n",
        "    monitor='val_loss',\n",
        "    verbose=1,\n",
        "    save_best_only=True,\n",
        "    mode='min'\n",
        ")\n",
        "\n",
        "early_stopping = EarlyStopping(\n",
        "    monitor='val_loss',\n",
        "    patience=best_patience,\n",
        "    verbose=1,\n",
        "    restore_best_weights=True\n",
        ")\n",
        "\n",
        "reduce_lr = ReduceLROnPlateau(\n",
        "    monitor='val_loss',\n",
        "    factor=0.2,\n",
        "    patience=max(1, best_patience - 2),\n",
        "    min_lr=best_min_lr,\n",
        "    verbose=1\n",
        ")\n",
        "\n",
        "# Train the model with the best hyperparameters\n",
        "history = classification_model.fit(\n",
        "    x_train,\n",
        "    y_train,\n",
        "    epochs=10,\n",
        "    batch_size=32,\n",
        "    validation_data=(x_test, y_test),\n",
        "    callbacks=[checkpoint, early_stopping, reduce_lr]\n",
        ")\n",
        "\n",
        "# Load the best model weights\n",
        "classification_model.load_weights(\"/content/drive/MyDrive/vit.keras\")\n",
        "\n",
        "# Evaluate the model\n",
        "evaluation = classification_model.evaluate(x_test, y_test)\n",
        "print(f\"Test Loss: {evaluation[0]:.5f}\")\n",
        "print(f\"Test Accuracy: {evaluation[1]:.5f}\")\n",
        "\n",
        "# Make predictions\n",
        "y_pred = classification_model.predict(x_test)\n",
        "\n",
        "# Convert probabilities to class labels\n",
        "y_pred_classes = np.argmax(y_pred, axis=1)\n",
        "\n",
        "# Generate classification report\n",
        "report = classification_report(y_test, y_pred_classes, digits=5)\n",
        "\n",
        "# Print the classification report\n",
        "print(\"\\nClassification Report (baseline):\")\n",
        "print(report)"
      ]
    },
    {
      "cell_type": "code",
      "source": [
        "# classification_model.load_weights(\"/content/drive/MyDrive/vit.keras\")\n",
        "# classification_model.evaluate(x_test, y_test)"
      ],
      "metadata": {
        "id": "MvNctaurFMrz"
      },
      "execution_count": null,
      "outputs": []
    },
    {
      "cell_type": "code",
      "execution_count": null,
      "metadata": {
        "id": "DWRKs_FMFB8H"
      },
      "outputs": [],
      "source": [
        "# from sklearn.metrics import accuracy_score, precision_score, recall_score, f1_score, roc_auc_score\n",
        "\n",
        "# # Assuming classification_model.predict returns probabilities or predicted classes\n",
        "# y_pred = classification_model.predict(x_test)\n",
        "\n",
        "# # If y_pred contains probabilities, you may want to convert them to classes\n",
        "# # For binary classification:\n",
        "# # y_pred_classes = (y_pred > 0.5).astype(int)\n",
        "\n",
        "# # For multi-class classification with softmax output:\n",
        "# y_pred_classes = np.argmax(y_pred, axis=1)\n",
        "# from sklearn.metrics import classification_report\n",
        "\n",
        "# # Assuming y_pred_classes are predicted classes\n",
        "\n",
        "# # Generate classification report\n",
        "# report = classification_report(y_test, y_pred_classes, digits=5)\n",
        "\n",
        "# # Print the report\n",
        "# print(\"Classification Report:\")\n",
        "# print(report)\n"
      ]
    },
    {
      "cell_type": "code",
      "execution_count": null,
      "metadata": {
        "id": "uXBtOH38ipup",
        "colab": {
          "base_uri": "https://localhost:8080/",
          "height": 736
        },
        "outputId": "72c28f58-ebc0-4baa-f75a-39ae25c2ac09"
      },
      "outputs": [
        {
          "output_type": "stream",
          "name": "stdout",
          "text": [
            "14/14 [==============================] - 8s 420ms/step\n"
          ]
        },
        {
          "output_type": "display_data",
          "data": {
            "text/plain": [
              "<Figure size 1000x800 with 2 Axes>"
            ],
            "image/png": "[encoded data removed]"
          },
          "metadata": {}
        }
      ],
      "source": [
        "# Visualize t-SNE embeddings\n",
        "# Assuming x_train_embed and x_test_embed are the embeddings obtained from the penultimate layer\n",
        "tsne = TSNE(n_components=2, random_state=42)\n",
        "x_embed = base_model.predict(x_test)  # Assuming x_test is your test data\n",
        "x_tsne = tsne.fit_transform(x_embed)\n",
        "\n",
        "# Plot t-SNE embeddings\n",
        "plt.figure(figsize=(10, 8))\n",
        "plt.scatter(x_tsne[:, 0], x_tsne[:, 1], c=y_test, cmap='viridis')\n",
        "plt.colorbar()\n",
        "plt.title(' Test t-SNE Embeddings')\n",
        "plt.xlabel('t-SNE Component 1')\n",
        "plt.ylabel('t-SNE Component 2')\n",
        "plt.show()\n"
      ]
    },
    {
      "cell_type": "code",
      "execution_count": null,
      "metadata": {
        "id": "riv0x3yXAmPQ",
        "colab": {
          "base_uri": "https://localhost:8080/",
          "height": 216
        },
        "outputId": "28b2e267-cc88-4793-b73d-962b5dac2515"
      },
      "outputs": [
        {
          "output_type": "error",
          "ename": "ValueError",
          "evalue": "cannot reshape array of size 20643840 into shape (300,49152)",
          "traceback": [
            "\u001b[0;31m---------------------------------------------------------------------------\u001b[0m",
            "\u001b[0;31mValueError\u001b[0m                                Traceback (most recent call last)",
            "\u001b[0;32m<ipython-input-12-d8910a604e3b>\u001b[0m in \u001b[0;36m<cell line: 3>\u001b[0;34m()\u001b[0m\n\u001b[1;32m      1\u001b[0m \u001b[0;31m# Visualize t-SNE embeddings\u001b[0m\u001b[0;34m\u001b[0m\u001b[0;34m\u001b[0m\u001b[0m\n\u001b[1;32m      2\u001b[0m \u001b[0;31m# Assuming x_train_embed and x_test_embed are the embeddings obtained from the penultimate layer\u001b[0m\u001b[0;34m\u001b[0m\u001b[0;34m\u001b[0m\u001b[0m\n\u001b[0;32m----> 3\u001b[0;31m \u001b[0mx_test_flat\u001b[0m \u001b[0;34m=\u001b[0m \u001b[0mx_test\u001b[0m\u001b[0;34m.\u001b[0m\u001b[0mreshape\u001b[0m\u001b[0;34m(\u001b[0m\u001b[0;34m(\u001b[0m\u001b[0;36m300\u001b[0m\u001b[0;34m,\u001b[0m \u001b[0;36m128\u001b[0m\u001b[0;34m*\u001b[0m\u001b[0;36m128\u001b[0m\u001b[0;34m*\u001b[0m\u001b[0;36m3\u001b[0m\u001b[0;34m)\u001b[0m\u001b[0;34m)\u001b[0m\u001b[0;34m\u001b[0m\u001b[0;34m\u001b[0m\u001b[0m\n\u001b[0m\u001b[1;32m      4\u001b[0m \u001b[0mtsne\u001b[0m \u001b[0;34m=\u001b[0m \u001b[0mTSNE\u001b[0m\u001b[0;34m(\u001b[0m\u001b[0mn_components\u001b[0m\u001b[0;34m=\u001b[0m\u001b[0;36m2\u001b[0m\u001b[0;34m,\u001b[0m \u001b[0mrandom_state\u001b[0m\u001b[0;34m=\u001b[0m\u001b[0;36m42\u001b[0m\u001b[0;34m)\u001b[0m\u001b[0;34m\u001b[0m\u001b[0;34m\u001b[0m\u001b[0m\n\u001b[1;32m      5\u001b[0m \u001b[0;31m#x_embed = base_model.predict(x_test)  # Assuming x_test is your test data\u001b[0m\u001b[0;34m\u001b[0m\u001b[0;34m\u001b[0m\u001b[0m\n",
            "\u001b[0;31mValueError\u001b[0m: cannot reshape array of size 20643840 into shape (300,49152)"
          ]
        }
      ],
      "source": [
        "# Visualize t-SNE embeddings\n",
        "# Assuming x_train_embed and x_test_embed are the embeddings obtained from the penultimate layer\n",
        "x_test_flat = x_test.reshape((300, 128*128*3))\n",
        "tsne = TSNE(n_components=2, random_state=42)\n",
        "#x_embed = base_model.predict(x_test)  # Assuming x_test is your test data\n",
        "x_tsne = tsne.fit_transform(x_test_flat)\n",
        "\n",
        "# Plot t-SNE embeddings\n",
        "plt.figure(figsize=(10, 8))\n",
        "plt.scatter(x_tsne[:, 0], x_tsne[:, 1], c=y_test, cmap='viridis')\n",
        "plt.colorbar()\n",
        "plt.title(' Test Images')\n",
        "plt.xlabel('t-SNE Component 1')\n",
        "plt.ylabel('t-SNE Component 2')\n",
        "plt.show()\n"
      ]
    },
    {
      "cell_type": "code",
      "execution_count": null,
      "metadata": {
        "id": "ac9oiTPqBOns"
      },
      "outputs": [],
      "source": [
        "# Visualize t-SNE embeddings\n",
        "# Assuming x_train_embed and x_train_embed are the embeddings obtained from the penultimate layer\n",
        "x_train_flat = x_train.reshape((1200, 128*128*3))\n",
        "tsne = TSNE(n_components=2, random_state=42)\n",
        "#x_embed = base_model.predict(x_train)  # Assuming x_train is your train data\n",
        "x_tsne = tsne.fit_transform(x_train_flat)\n",
        "\n",
        "# Plot t-SNE embeddings\n",
        "plt.figure(figsize=(10, 8))\n",
        "plt.scatter(x_tsne[:, 0], x_tsne[:, 1], c=y_train, cmap='viridis')\n",
        "plt.colorbar()\n",
        "plt.title('Train Images')\n",
        "plt.xlabel('t-SNE Component 1')\n",
        "plt.ylabel('t-SNE Component 2')\n",
        "plt.show()\n"
      ]
    },
    {
      "cell_type": "code",
      "execution_count": null,
      "metadata": {
        "id": "VfgMTz4r6MXc"
      },
      "outputs": [],
      "source": [
        "# Visualize t-SNE embeddings\n",
        "# Assuming x_train_embed and x_train_embed are the embeddings obtained from the penultimate layer\n",
        "tsne = TSNE(n_components=2, random_state=42)\n",
        "x_embed = base_model.predict(x_train)  # Assuming x_train is your train data\n",
        "x_tsne = tsne.fit_transform(x_embed)\n",
        "\n",
        "# Plot t-SNE embeddings\n",
        "plt.figure(figsize=(10, 8))\n",
        "plt.scatter(x_tsne[:, 0], x_tsne[:, 1], c=y_train, cmap='viridis')\n",
        "plt.colorbar()\n",
        "plt.title('Train t-SNE Embeddings')\n",
        "plt.xlabel('t-SNE Component 1')\n",
        "plt.ylabel('t-SNE Component 2')\n",
        "plt.show()\n"
      ]
    },
    {
      "cell_type": "markdown",
      "metadata": {
        "id": "bMxOUvJfjEnz"
      },
      "source": [
        "<h1>E-Mixup"
      ]
    },
    {
      "cell_type": "code",
      "execution_count": null,
      "metadata": {
        "id": "iR4d5hGk85lW"
      },
      "outputs": [],
      "source": [
        "xtest_emb = base_model.predict(x_test)\n",
        "xtrain_emb = base_model.predict(x_train)"
      ]
    },
    {
      "cell_type": "code",
      "execution_count": null,
      "metadata": {
        "id": "SzjPEiXc9Wi3"
      },
      "outputs": [],
      "source": [
        "import keras\n",
        "y_test_o = keras.utils.to_categorical(y_test)\n",
        "y_train_o = keras.utils.to_categorical(y_train)\n",
        "print(y_train_o.shape)\n",
        "print(y_test_o.shape)"
      ]
    },
    {
      "cell_type": "code",
      "execution_count": null,
      "metadata": {
        "id": "CBqzv7EB9GzH"
      },
      "outputs": [],
      "source": [
        "def mixup(xt, yt, mf):\n",
        "  alp = 0.2\n",
        "  xaug = []\n",
        "  yaug = []\n",
        "  for k in range(0,xt.shape[0]):\n",
        "    cnt = 0\n",
        "    for cnt in range(0,mf-1):\n",
        "      lbd = np.random.beta(alp,alp)\n",
        "      yks = np.random.randint(xt.shape[0])\n",
        "      kdash = xt[yks]\n",
        "      ydash = yt[yks]\n",
        "      kdash1 = xt[k]\n",
        "      ydash1 = yt[k]\n",
        "      xaug1 = kdash1*lbd + kdash*(1-lbd)\n",
        "      yaug1 = ydash1*lbd + ydash*(1-lbd)\n",
        "      xaug.append(xaug1)\n",
        "      yaug.append(yaug1)\n",
        "  xs2 = np.asarray(xaug)\n",
        "  ys2 = np.asarray(yaug)\n",
        "  x1 = np.concatenate((xt,xs2))\n",
        "  y1 = np.concatenate((yt,ys2))\n",
        "  return x1,y1"
      ]
    },
    {
      "cell_type": "code",
      "execution_count": null,
      "metadata": {
        "id": "vmnfV_YT9Sma"
      },
      "outputs": [],
      "source": [
        "xtrain_emb.shape"
      ]
    },
    {
      "cell_type": "code",
      "execution_count": null,
      "metadata": {
        "id": "c2-RAuju9OOa"
      },
      "outputs": [],
      "source": [
        "xtt, ytt = mixup(xtrain_emb,y_train_o,3)\n",
        "xtt.shape"
      ]
    },
    {
      "cell_type": "code",
      "execution_count": null,
      "metadata": {
        "id": "AJYCRRfC8_Ol"
      },
      "outputs": [],
      "source": [
        "# from keras.models import Sequential\n",
        "# from keras.layers import Dense, Dropout, Flatten\n",
        "# import tensorflow as tf\n",
        "\n",
        "# Classifier_model = Sequential()\n",
        "# #add model layers\n",
        "# Classifier_model.Input = (125,)\n",
        "\n",
        "# Classifier_model.add(Dense(512,activation='relu'))\n",
        "# Classifier_model.add(Dense(512,activation='relu'))\n",
        "\n",
        "# Classifier_model.add(Dense(3, activation='softmax'))\n",
        "# opt = tf.keras.optimizers.Adam(learning_rate=0.001)\n",
        "# Classifier_model.compile(optimizer=opt,loss='categorical_crossentropy',metrics=['accuracy'])\n",
        "# Classifier_model.fit(xtt, ytt,epochs=25, validation_data=(xtest_emb, y_test_o))\n",
        "\n",
        "# Classifier_model.evaluate(xtest_emb, y_test_o)\n",
        "\n",
        "# from sklearn.metrics import accuracy_score, precision_score, recall_score, f1_score, roc_auc_score\n",
        "\n",
        "# # Assuming Classifier_model.predict returns probabilities or predicted classes\n",
        "# y_pred = Classifier_model.predict(xtest_emb)\n",
        "\n",
        "# # If y_pred contains probabilities, you may want to convert them to classes\n",
        "# # For binary classification:\n",
        "# # y_pred_classes = (y_pred > 0.5).astype(int)\n",
        "# # For multi-class classification with softmax output:\n",
        "# y_pred_classes = np.argmax(y_pred, axis=1)\n",
        "# from sklearn.metrics import classification_report\n",
        "\n",
        "# # Assuming y_pred_classes are predicted classes\n",
        "\n",
        "# # Generate classification report\n",
        "# report = classification_report(y_test, y_pred_classes, digits=5)\n",
        "\n",
        "# # Print the report\n",
        "# print(\"Classification Report:\")\n",
        "# print(report)\n",
        "\n",
        "import numpy as np\n",
        "from keras.models import Sequential\n",
        "from keras.layers import Dense, Dropout, Flatten\n",
        "import tensorflow as tf\n",
        "from sklearn.metrics import classification_report\n",
        "\n",
        "# Define the list of learning rates to try\n",
        "learning_rates = [0.003, 0.001, 0.00033, 0.0001]\n",
        "\n",
        "# Variables to store the best results\n",
        "best_val_loss = np.inf\n",
        "best_learning_rate = None\n",
        "best_model_weights = None\n",
        "\n",
        "# Assume xtt, ytt, xtest_emb, y_test, y_test_o are already defined and preprocessed\n",
        "# xtt: Training features\n",
        "# ytt: Training labels (one-hot encoded)\n",
        "# xtest_emb: Test features\n",
        "# y_test_o: Test labels (one-hot encoded)\n",
        "# y_test: Test labels (integer encoded) for evaluation\n",
        "\n",
        "for lr in learning_rates:\n",
        "    print(f\"\\nTraining model with learning_rate={lr}\")\n",
        "\n",
        "    # Build the model\n",
        "    Classifier_model = Sequential()\n",
        "    Classifier_model.add(Dense(512, activation='relu', input_shape=(125,)))\n",
        "    Classifier_model.add(Dense(512, activation='relu'))\n",
        "    Classifier_model.add(Dense(3, activation='softmax'))\n",
        "\n",
        "    # Compile the model with the current learning rate\n",
        "    opt = tf.keras.optimizers.Adam(learning_rate=lr)\n",
        "    Classifier_model.compile(optimizer=opt, loss='categorical_crossentropy', metrics=['accuracy'])\n",
        "\n",
        "    # Train the model\n",
        "    history = Classifier_model.fit(\n",
        "        xtt, ytt,\n",
        "        epochs=10,\n",
        "        batch_size=32,\n",
        "        validation_data=(xtest_emb, y_test_o),\n",
        "        verbose=0  # Suppress detailed output\n",
        "    )\n",
        "\n",
        "    # Get the last validation loss and accuracy\n",
        "    val_loss = history.history['val_loss'][-1]\n",
        "    val_accuracy = history.history['val_accuracy'][-1]\n",
        "    print(f\"Validation Loss: {val_loss:.5f}, Validation Accuracy: {val_accuracy:.5f}\")\n",
        "\n",
        "    # Update best model if current one is better\n",
        "    if val_loss < best_val_loss:\n",
        "        best_val_loss = val_loss\n",
        "        best_learning_rate = lr\n",
        "        best_model_weights = Classifier_model.get_weights()\n",
        "\n",
        "# Rebuild the model with the best learning rate\n",
        "Classifier_model = Sequential()\n",
        "Classifier_model.add(Dense(512, activation='relu', input_shape=(125,)))\n",
        "Classifier_model.add(Dense(512, activation='relu'))\n",
        "Classifier_model.add(Dense(3, activation='softmax'))\n",
        "\n",
        "# Compile the model with the best learning rate\n",
        "opt = tf.keras.optimizers.Adam(learning_rate=best_learning_rate)\n",
        "Classifier_model.compile(optimizer=opt, loss='categorical_crossentropy', metrics=['accuracy'])\n",
        "\n",
        "# Load the best weights into the model\n",
        "Classifier_model.set_weights(best_model_weights)\n",
        "\n",
        "print(\"\\nBest learning rate found:\")\n",
        "print(f\"Learning Rate: {best_learning_rate}\")\n",
        "print(f\"Best Validation Loss: {best_val_loss:.5f}\")\n",
        "\n",
        "# Evaluate the best model on test data\n",
        "test_loss, test_accuracy = Classifier_model.evaluate(xtest_emb, y_test_o, verbose=0)\n",
        "print(f\"\\nBest Model Test Loss: {test_loss:.5f}, Test Accuracy: {test_accuracy:.5f}\")\n",
        "\n",
        "# Proceed with your code\n",
        "from sklearn.metrics import accuracy_score, precision_score, recall_score, f1_score, roc_auc_score\n",
        "\n",
        "# Assuming Classifier_model.predict returns probabilities\n",
        "y_pred = Classifier_model.predict(xtest_emb)\n",
        "\n",
        "# Convert probabilities to class labels\n",
        "# For multi-class classification with softmax output\n",
        "y_pred_classes = np.argmax(y_pred, axis=1)\n",
        "\n",
        "# Generate classification report\n",
        "report = classification_report(y_test, y_pred_classes, digits=5)\n",
        "\n",
        "# Print the report\n",
        "print(\"Classification Report:\")\n",
        "print(report)\n"
      ]
    },
    {
      "cell_type": "code",
      "execution_count": null,
      "metadata": {
        "id": "LNBVO_3n9F6C",
        "colab": {
          "base_uri": "https://localhost:8080/"
        },
        "outputId": "335d5f08-7d47-484a-f077-8457f36daec9"
      },
      "outputs": [
        {
          "output_type": "stream",
          "name": "stdout",
          "text": [
            "14/14 [==============================] - 0s 3ms/step - loss: 1.1009 - accuracy: 0.3048\n"
          ]
        },
        {
          "output_type": "execute_result",
          "data": {
            "text/plain": [
              "[1.100872278213501, 0.3047619163990021]"
            ]
          },
          "metadata": {},
          "execution_count": 23
        }
      ],
      "source": [
        "# Classifier_model.evaluate(xtest_emb, y_test_o)"
      ]
    },
    {
      "cell_type": "code",
      "execution_count": null,
      "metadata": {
        "id": "kYd1B78tQVpv",
        "colab": {
          "base_uri": "https://localhost:8080/"
        },
        "outputId": "14890d74-97be-4ce5-a34e-8a0463642cf6"
      },
      "outputs": [
        {
          "output_type": "stream",
          "name": "stdout",
          "text": [
            "14/14 [==============================] - 0s 2ms/step\n",
            "Classification Report:\n",
            "              precision    recall  f1-score   support\n",
            "\n",
            "           0    0.30476   1.00000   0.46715       128\n",
            "           1    0.00000   0.00000   0.00000       138\n",
            "           2    0.00000   0.00000   0.00000       154\n",
            "\n",
            "    accuracy                        0.30476       420\n",
            "   macro avg    0.10159   0.33333   0.15572       420\n",
            "weighted avg    0.09288   0.30476   0.14237       420\n",
            "\n"
          ]
        },
        {
          "output_type": "stream",
          "name": "stderr",
          "text": [
            "/usr/local/lib/python3.10/dist-packages/sklearn/metrics/_classification.py:1531: UndefinedMetricWarning: Precision is ill-defined and being set to 0.0 in labels with no predicted samples. Use `zero_division` parameter to control this behavior.\n",
            "  _warn_prf(average, modifier, f\"{metric.capitalize()} is\", len(result))\n",
            "/usr/local/lib/python3.10/dist-packages/sklearn/metrics/_classification.py:1531: UndefinedMetricWarning: Precision is ill-defined and being set to 0.0 in labels with no predicted samples. Use `zero_division` parameter to control this behavior.\n",
            "  _warn_prf(average, modifier, f\"{metric.capitalize()} is\", len(result))\n",
            "/usr/local/lib/python3.10/dist-packages/sklearn/metrics/_classification.py:1531: UndefinedMetricWarning: Precision is ill-defined and being set to 0.0 in labels with no predicted samples. Use `zero_division` parameter to control this behavior.\n",
            "  _warn_prf(average, modifier, f\"{metric.capitalize()} is\", len(result))\n"
          ]
        }
      ],
      "source": [
        "# from sklearn.metrics import accuracy_score, precision_score, recall_score, f1_score, roc_auc_score\n",
        "\n",
        "# # Assuming Classifier_model.predict returns probabilities or predicted classes\n",
        "# y_pred = Classifier_model.predict(xtest_emb)\n",
        "\n",
        "# # If y_pred contains probabilities, you may want to convert them to classes\n",
        "# # For binary classification:\n",
        "# # y_pred_classes = (y_pred > 0.5).astype(int)\n",
        "# # For multi-class classification with softmax output:\n",
        "# y_pred_classes = np.argmax(y_pred, axis=1)\n",
        "# from sklearn.metrics import classification_report\n",
        "\n",
        "# # Assuming y_pred_classes are predicted classes\n",
        "\n",
        "# # Generate classification report\n",
        "# report = classification_report(y_test, y_pred_classes, digits=5)\n",
        "\n",
        "# # Print the report\n",
        "# print(\"Classification Report:\")\n",
        "# print(report)\n",
        "\n"
      ]
    },
    {
      "cell_type": "markdown",
      "metadata": {
        "id": "v5xo2Qyb-3MO"
      },
      "source": [
        "E-Stitchup"
      ]
    },
    {
      "cell_type": "code",
      "execution_count": null,
      "metadata": {
        "id": "2ruUYkyg-4lY"
      },
      "outputs": [],
      "source": [
        "import numpy as np\n",
        "\n",
        "def stichup(xt, yt, mf):\n",
        "    alp = 0.2\n",
        "    xaug = []\n",
        "    yaug = []\n",
        "    for k in range(xt.shape[0]):\n",
        "        for _ in range(mf-1):  # Renamed loop counter to avoid confusion with loop index\n",
        "            lbd = np.random.beta(alp, alp)\n",
        "            yks = np.random.randint(xt.shape[0])\n",
        "            kdash = xt[yks]  # Accessing rows of xt directly\n",
        "            ydash = yt[yks]  # Accessing corresponding y value\n",
        "            kdash1 = xt[k]    # Accessing rows of xt directly\n",
        "            ydash1 = yt[k]    # Accessing corresponding y value\n",
        "            lbd_stch = int(xt.shape[1] * lbd)\n",
        "            reff_stich = np.zeros(xt.shape[1])\n",
        "            for i in range(lbd_stch):\n",
        "                index_stich = np.random.randint(xt.shape[1])\n",
        "                reff_stich[index_stich] = 1\n",
        "            xaug1 = np.zeros(xt.shape[1])  # Initialize as numpy array\n",
        "            for i in range(len(reff_stich)):\n",
        "                if reff_stich[i] == 0:\n",
        "                    xaug1[i] = kdash[i]\n",
        "                else:\n",
        "                    xaug1[i] = kdash1[i]\n",
        "            yaug1 = ydash1 * lbd + ydash * (1 - lbd)\n",
        "            xaug.append(xaug1)\n",
        "            yaug.append(yaug1)\n",
        "    xs2 = np.asarray(xaug)\n",
        "    ys2 = np.asarray(yaug)\n",
        "    x1 = np.concatenate((xt, xs2))\n",
        "    y1 = np.concatenate((yt, ys2))\n",
        "    return x1, y1\n"
      ]
    },
    {
      "cell_type": "code",
      "execution_count": null,
      "metadata": {
        "id": "e5Bx0OIF-SgR",
        "colab": {
          "base_uri": "https://localhost:8080/"
        },
        "outputId": "08f488ed-a129-4a43-c880-a5ade19f9cfa"
      },
      "outputs": [
        {
          "output_type": "execute_result",
          "data": {
            "text/plain": [
              "(5040, 125)"
            ]
          },
          "metadata": {},
          "execution_count": 25
        }
      ],
      "source": [
        "xtt, ytt = stichup(xtrain_emb,y_train_o,3)\n",
        "xtt.shape"
      ]
    },
    {
      "cell_type": "code",
      "execution_count": null,
      "metadata": {
        "id": "2pO2LXIS--4K",
        "colab": {
          "base_uri": "https://localhost:8080/"
        },
        "outputId": "7bdb55d9-3017-4fd8-b3b1-4d6fe6d16e64"
      },
      "outputs": [
        {
          "output_type": "stream",
          "name": "stdout",
          "text": [
            "\n",
            "Training model with learning_rate=0.003\n",
            "Validation Loss: 1.10170, Validation Accuracy: 0.30476\n",
            "\n",
            "Training model with learning_rate=0.001\n",
            "Validation Loss: 1.10190, Validation Accuracy: 0.30476\n",
            "\n",
            "Training model with learning_rate=0.00033\n",
            "Validation Loss: 1.10209, Validation Accuracy: 0.30476\n",
            "\n",
            "Training model with learning_rate=0.0001\n",
            "Validation Loss: 1.10055, Validation Accuracy: 0.30476\n",
            "\n",
            "Best learning rate found:\n",
            "Learning Rate: 0.0001\n",
            "Best Validation Loss: 1.10055\n",
            "\n",
            "Best Model Test Loss: 1.10055, Test Accuracy: 0.30476\n",
            "14/14 [==============================] - 0s 2ms/step\n",
            "Classification Report:\n",
            "              precision    recall  f1-score   support\n",
            "\n",
            "           0    0.30476   1.00000   0.46715       128\n",
            "           1    0.00000   0.00000   0.00000       138\n",
            "           2    0.00000   0.00000   0.00000       154\n",
            "\n",
            "    accuracy                        0.30476       420\n",
            "   macro avg    0.10159   0.33333   0.15572       420\n",
            "weighted avg    0.09288   0.30476   0.14237       420\n",
            "\n"
          ]
        },
        {
          "output_type": "stream",
          "name": "stderr",
          "text": [
            "/usr/local/lib/python3.10/dist-packages/sklearn/metrics/_classification.py:1531: UndefinedMetricWarning: Precision is ill-defined and being set to 0.0 in labels with no predicted samples. Use `zero_division` parameter to control this behavior.\n",
            "  _warn_prf(average, modifier, f\"{metric.capitalize()} is\", len(result))\n",
            "/usr/local/lib/python3.10/dist-packages/sklearn/metrics/_classification.py:1531: UndefinedMetricWarning: Precision is ill-defined and being set to 0.0 in labels with no predicted samples. Use `zero_division` parameter to control this behavior.\n",
            "  _warn_prf(average, modifier, f\"{metric.capitalize()} is\", len(result))\n",
            "/usr/local/lib/python3.10/dist-packages/sklearn/metrics/_classification.py:1531: UndefinedMetricWarning: Precision is ill-defined and being set to 0.0 in labels with no predicted samples. Use `zero_division` parameter to control this behavior.\n",
            "  _warn_prf(average, modifier, f\"{metric.capitalize()} is\", len(result))\n"
          ]
        }
      ],
      "source": [
        "# from keras.models import Sequential\n",
        "# from keras.layers import Dense, Dropout, Flatten\n",
        "# import tensorflow as tf\n",
        "\n",
        "# Classifier_model = Sequential()\n",
        "# #add model layers\n",
        "# Classifier_model.Input = (125,)\n",
        "\n",
        "# Classifier_model.add(Dense(512,activation='relu'))\n",
        "# Classifier_model.add(Dense(512,activation='relu'))\n",
        "\n",
        "# Classifier_model.add(Dense(3, activation='softmax'))\n",
        "# opt = tf.keras.optimizers.Adam(learning_rate=0.001)\n",
        "# Classifier_model.compile(optimizer=opt,loss='categorical_crossentropy',metrics=['accuracy'])\n",
        "# Classifier_model.fit(xtt, ytt,epochs=25, validation_data=(xtest_emb, y_test_o))\n",
        "\n",
        "# ###############################################\n",
        "# Classifier_model.evaluate(xtest_emb, y_test_o)\n",
        "\n",
        "# ###################################################\n",
        "# from sklearn.metrics import accuracy_score, precision_score, recall_score, f1_score, roc_auc_score\n",
        "\n",
        "# # Assuming Classifier_model.predict returns probabilities or predicted classes\n",
        "# y_pred = Classifier_model.predict(xtest_emb)\n",
        "\n",
        "# # If y_pred contains probabilities, you may want to convert them to classes\n",
        "# # For binary classification:\n",
        "# # y_pred_classes = (y_pred > 0.5).astype(int)\n",
        "# # For multi-class classification with softmax output:\n",
        "# y_pred_classes = np.argmax(y_pred, axis=1)\n",
        "# from sklearn.metrics import classification_report\n",
        "\n",
        "# # Assuming y_pred_classes are predicted classes\n",
        "\n",
        "# # Generate classification report\n",
        "# report = classification_report(y_test, y_pred_classes, digits=5)\n",
        "\n",
        "# # Print the report\n",
        "# print(\"Classification Report:\")\n",
        "# print(report)\n",
        "\n",
        "\n",
        "\n",
        "\n",
        "from keras.models import Sequential\n",
        "from keras.layers import Dense, Dropout, Flatten\n",
        "import tensorflow as tf\n",
        "import numpy as np\n",
        "from sklearn.metrics import classification_report\n",
        "\n",
        "# Define the list of learning rates to try\n",
        "learning_rates = [0.003, 0.001, 0.00033, 0.0001]\n",
        "\n",
        "# Variables to store the best results\n",
        "best_val_loss = np.inf\n",
        "best_learning_rate = None\n",
        "best_model_weights = None\n",
        "\n",
        "# Assume xtt, ytt, xtest_emb, y_test, y_test_o are already defined and preprocessed\n",
        "# xtt: Training features\n",
        "# ytt: Training labels (one-hot encoded)\n",
        "# xtest_emb: Test features\n",
        "# y_test_o: Test labels (one-hot encoded)\n",
        "# y_test: Test labels (integer encoded) for evaluation\n",
        "\n",
        "for lr in learning_rates:\n",
        "    print(f\"\\nTraining model with learning_rate={lr}\")\n",
        "\n",
        "    # Build the model\n",
        "    Classifier_model = Sequential()\n",
        "    Classifier_model.add(Dense(512, activation='relu', input_shape=(125,)))\n",
        "    Classifier_model.add(Dense(512, activation='relu'))\n",
        "    Classifier_model.add(Dense(3, activation='softmax'))\n",
        "\n",
        "    # Compile the model with the current learning rate\n",
        "    opt = tf.keras.optimizers.Adam(learning_rate=lr)\n",
        "    Classifier_model.compile(optimizer=opt, loss='categorical_crossentropy', metrics=['accuracy'])\n",
        "\n",
        "    # Train the model\n",
        "    history = Classifier_model.fit(\n",
        "        xtt, ytt,\n",
        "        epochs=25,\n",
        "        batch_size=32,\n",
        "        validation_data=(xtest_emb, y_test_o),\n",
        "        verbose=0  # Suppress detailed output\n",
        "    )\n",
        "\n",
        "    # Evaluate the model on validation data\n",
        "    val_loss = history.history['val_loss'][-1]\n",
        "    val_accuracy = history.history['val_accuracy'][-1]\n",
        "    print(f\"Validation Loss: {val_loss:.5f}, Validation Accuracy: {val_accuracy:.5f}\")\n",
        "\n",
        "    # Update best model if current one is better\n",
        "    if val_loss < best_val_loss:\n",
        "        best_val_loss = val_loss\n",
        "        best_learning_rate = lr\n",
        "        best_model_weights = Classifier_model.get_weights()\n",
        "\n",
        "# Load the best model weights into Classifier_model\n",
        "# Build the model again to ensure it's in the correct state\n",
        "Classifier_model = Sequential()\n",
        "Classifier_model.add(Dense(512, activation='relu', input_shape=(125,)))\n",
        "Classifier_model.add(Dense(512, activation='relu'))\n",
        "Classifier_model.add(Dense(3, activation='softmax'))\n",
        "\n",
        "# Compile the model with the best learning rate\n",
        "opt = tf.keras.optimizers.Adam(learning_rate=best_learning_rate)\n",
        "Classifier_model.compile(optimizer=opt, loss='categorical_crossentropy', metrics=['accuracy'])\n",
        "\n",
        "# Set the weights to the best model weights\n",
        "Classifier_model.set_weights(best_model_weights)\n",
        "\n",
        "print(\"\\nBest learning rate found:\")\n",
        "print(f\"Learning Rate: {best_learning_rate}\")\n",
        "print(f\"Best Validation Loss: {best_val_loss:.5f}\")\n",
        "\n",
        "# Evaluate the best model on test data\n",
        "test_loss, test_accuracy = Classifier_model.evaluate(xtest_emb, y_test_o, verbose=0)\n",
        "print(f\"\\nBest Model Test Loss: {test_loss:.5f}, Test Accuracy: {test_accuracy:.5f}\")\n",
        "\n",
        "# Proceed with your code\n",
        "\n",
        "# Assuming Classifier_model.predict returns probabilities\n",
        "y_pred = Classifier_model.predict(xtest_emb)\n",
        "\n",
        "# Convert probabilities to class labels\n",
        "# For multi-class classification with softmax output\n",
        "y_pred_classes = np.argmax(y_pred, axis=1)\n",
        "\n",
        "# Generate classification report\n",
        "report = classification_report(y_test, y_pred_classes, digits=5)\n",
        "\n",
        "# Print the report\n",
        "print(\"Classification Report:\")\n",
        "print(report)"
      ]
    },
    {
      "cell_type": "code",
      "execution_count": null,
      "metadata": {
        "id": "CW9D-pDo_p4c"
      },
      "outputs": [],
      "source": [
        "# Classifier_model.evaluate(xtest_emb, y_test_o)"
      ]
    },
    {
      "cell_type": "code",
      "execution_count": null,
      "metadata": {
        "id": "yc7joIgJ_vg5"
      },
      "outputs": [],
      "source": [
        "# from sklearn.metrics import accuracy_score, precision_score, recall_score, f1_score, roc_auc_score\n",
        "\n",
        "# # Assuming Classifier_model.predict returns probabilities or predicted classes\n",
        "# y_pred = Classifier_model.predict(xtest_emb)\n",
        "\n",
        "# # If y_pred contains probabilities, you may want to convert them to classes\n",
        "# # For binary classification:\n",
        "# # y_pred_classes = (y_pred > 0.5).astype(int)\n",
        "# # For multi-class classification with softmax output:\n",
        "# y_pred_classes = np.argmax(y_pred, axis=1)\n",
        "# from sklearn.metrics import classification_report\n",
        "\n",
        "# # Assuming y_pred_classes are predicted classes\n",
        "\n",
        "# # Generate classification report\n",
        "# report = classification_report(y_test, y_pred_classes, digits=5)\n",
        "\n",
        "# # Print the report\n",
        "# print(\"Classification Report:\")\n",
        "# print(report)\n",
        "\n"
      ]
    }
  ],
  "metadata": {
    "accelerator": "GPU",
    "colab": {
      "gpuType": "T4",
      "provenance": []
    },
    "kernelspec": {
      "display_name": "Python 3",
      "name": "python3"
    },
    "language_info": {
      "name": "python"
    }
  },
  "nbformat": 4,
  "nbformat_minor": 0
}